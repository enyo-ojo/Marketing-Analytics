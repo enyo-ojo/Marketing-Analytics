{
 "cells": [
  {
   "cell_type": "code",
   "id": "initial_id",
   "metadata": {
    "collapsed": true,
    "ExecuteTime": {
     "end_time": "2025-01-28T20:13:57.576747Z",
     "start_time": "2025-01-28T20:13:57.567761Z"
    }
   },
   "source": [
    "import pandas as pd\n",
    "import pyodbc\n",
    "import nltk\n",
    "from nltk.sentiment.vader import SentimentIntensityAnalyzer"
   ],
   "outputs": [],
   "execution_count": 20
  },
  {
   "metadata": {},
   "cell_type": "code",
   "source": "nltk.download('vader_lexicon')",
   "id": "3ba603d4dd8c951f",
   "outputs": [],
   "execution_count": null
  },
  {
   "metadata": {
    "ExecuteTime": {
     "end_time": "2025-01-28T20:28:42.007640Z",
     "start_time": "2025-01-28T20:28:41.989549Z"
    }
   },
   "cell_type": "code",
   "source": [
    "from sqlalchemy import create_engine\n",
    "def fetch_data_from_sql():\n",
    "    # Construct the connection string\n",
    "    connection_str = \"mssql+pyodbc://fibs_pc/PortfolioProject_MarketingAnalytics?driver=SQL+Server&trusted_connection=yes\"\n",
    "    \n",
    "    # Create the SQLAlchemy engine\n",
    "    engine = create_engine(connection_str)\n",
    "    \n",
    "    # Define your query\n",
    "    query = \"SELECT ReviewID, CustomerID, ProductID, ReviewDate, Rating, ReviewText FROM dbo.customer_reviews\"\n",
    "    \n",
    "    # Execute the query and read the data into a pandas DataFrame\n",
    "    df = pd.read_sql_query(query, engine)\n",
    "    \n",
    "    # Close the connection (SQLAlchemy handles this automatically)\n",
    "    return df"
   ],
   "id": "b85416bd4561f70f",
   "outputs": [],
   "execution_count": 42
  },
  {
   "metadata": {
    "ExecuteTime": {
     "end_time": "2025-01-28T20:21:54.694388Z",
     "start_time": "2025-01-28T20:21:54.689239Z"
    }
   },
   "cell_type": "code",
   "source": [
    "'''\n",
    "def fetch_data_from_sql():\n",
    "    connection_str = (\n",
    "        \"Driver={SQL Server};\"\n",
    "        \"Server=fibs_pc;\"\n",
    "        \"Database=PortfolioProject_MarketingAnalytics;\"\n",
    "        \"Trusted_Connection=yes;\"\n",
    "    )\n",
    "    connection = pyodbc.connect(connection_str)\n",
    "    query = \"select ReviewID, CustomerID, ProductID, ReviewDate, Rating, ReviewText from dbo.customer_reviews\"\n",
    "    \n",
    "    df = pd.read_sql_query(query, connection)\n",
    "    connection.close()\n",
    "    return df\n",
    "'''"
   ],
   "id": "4e1d9e9229b49df2",
   "outputs": [],
   "execution_count": 34
  },
  {
   "metadata": {
    "ExecuteTime": {
     "end_time": "2025-01-28T20:28:54.746644Z",
     "start_time": "2025-01-28T20:28:46.321445Z"
    }
   },
   "cell_type": "code",
   "source": [
    "reviews_df = fetch_data_from_sql()\n",
    "sia = SentimentIntensityAnalyzer()"
   ],
   "id": "2d8a3949a9c74af",
   "outputs": [],
   "execution_count": 43
  },
  {
   "metadata": {
    "ExecuteTime": {
     "end_time": "2025-01-28T20:33:28.961742Z",
     "start_time": "2025-01-28T20:33:28.949655Z"
    }
   },
   "cell_type": "code",
   "source": [
    "def calculate_sentiment(review):\n",
    "    sentiment = sia.polarity_scores(review)\n",
    "    return sentiment['compound']"
   ],
   "id": "f942c5b1b1badbbb",
   "outputs": [],
   "execution_count": 44
  },
  {
   "metadata": {
    "ExecuteTime": {
     "end_time": "2025-01-29T13:53:33.728773Z",
     "start_time": "2025-01-29T13:53:33.707384Z"
    }
   },
   "cell_type": "code",
   "source": [
    "def categorize_sentiment(score, rating):\n",
    "    if score > 0.05:\n",
    "        if rating >= 4:\n",
    "            return 'positive'\n",
    "        elif rating == 3:\n",
    "            return 'mixed positve'\n",
    "        else:\n",
    "            return 'mixed negative'\n",
    "    elif score < -0.05:\n",
    "        if rating <=2:\n",
    "            return 'negative'\n",
    "        elif rating == 3:\n",
    "          return 'mixed negative'\n",
    "        else:\n",
    "            return 'mixed positive'\n",
    "    else:\n",
    "        if rating >= 4:\n",
    "            return 'positive'\n",
    "        elif rating <= 2:\n",
    "            return 'negative'\n",
    "        else:\n",
    "            return 'neutral'\n"
   ],
   "id": "737be8b2f570345f",
   "outputs": [],
   "execution_count": 52
  },
  {
   "metadata": {
    "ExecuteTime": {
     "end_time": "2025-01-29T13:53:58.961539Z",
     "start_time": "2025-01-29T13:53:58.943760Z"
    }
   },
   "cell_type": "code",
   "source": [
    "def sentiment_bucket(score):\n",
    "    if score >= 0.05:\n",
    "        return '0.5 to 1.0' #strong positive\n",
    "    elif 0.0 <= score < 0.5:\n",
    "        return '0.0 to 0.49'  #mild positive\n",
    "    elif -0.5 <= score < 0.0:\n",
    "        return '-0.49 to 0.0'   #mild negative\n",
    "    else:\n",
    "        return '-1.0 to -0.5'   #strong negative"
   ],
   "id": "d75cfcb7286e6ce0",
   "outputs": [],
   "execution_count": 54
  },
  {
   "metadata": {
    "ExecuteTime": {
     "end_time": "2025-01-29T13:54:04.734980Z",
     "start_time": "2025-01-29T13:54:04.588361Z"
    }
   },
   "cell_type": "code",
   "source": [
    "#apply sentiment analysis to calculate sent scores and reviews\n",
    "reviews_df['SentimentScore'] = reviews_df['ReviewText'].apply(calculate_sentiment)\n",
    "\n",
    "#applying sent category using text and ratings\n",
    "reviews_df['SentimentCategory'] = reviews_df.apply(lambda row: categorize_sentiment(row['SentimentScore'], row['Rating']), axis=1)\n",
    "\n",
    "#define ranges using sent bucket\n",
    "reviews_df['SentimentBucket'] = reviews_df['SentimentScore'].apply(sentiment_bucket)"
   ],
   "id": "abb0411e865a4720",
   "outputs": [],
   "execution_count": 55
  },
  {
   "metadata": {
    "ExecuteTime": {
     "end_time": "2025-01-29T13:54:09.762458Z",
     "start_time": "2025-01-29T13:54:09.730520Z"
    }
   },
   "cell_type": "code",
   "source": "reviews_df",
   "id": "e786565d35e5744b",
   "outputs": [
    {
     "data": {
      "text/plain": [
       "      ReviewID  CustomerID  ProductID  ReviewDate  Rating  \\\n",
       "0            1          77         18  2023-12-23       3   \n",
       "1            2          80         19  2024-12-25       5   \n",
       "2            3          50         13  2025-01-26       4   \n",
       "3            4          78         15  2025-04-21       3   \n",
       "4            5          64          2  2023-07-16       3   \n",
       "...        ...         ...        ...         ...     ...   \n",
       "1358      1359          28          4  2023-05-25       3   \n",
       "1359      1360          58         12  2023-11-13       2   \n",
       "1360      1361          96         15  2023-03-07       5   \n",
       "1361      1362          99          2  2025-12-03       1   \n",
       "1362      1363          16          4  2024-07-16       2   \n",
       "\n",
       "                                      ReviewText  SentimentScore  \\\n",
       "0        Average  experience,  nothing  special.         -0.3089   \n",
       "1                 The  quality  is    top-notch.          0.0000   \n",
       "2        Five  stars  for  the  quick  delivery.          0.0000   \n",
       "3       Good  quality,  but  could  be  cheaper.          0.2382   \n",
       "4        Average  experience,  nothing  special.         -0.3089   \n",
       "...                                          ...             ...   \n",
       "1358                     Not  worth  the  money.         -0.1695   \n",
       "1359   Average    experience,  nothing  special.         -0.3089   \n",
       "1360      Customer  support  was  very  helpful.          0.6997   \n",
       "1361  Product  did  not  meet  my  expectations.          0.0000   \n",
       "1362                The  product  arrived  late.          0.0000   \n",
       "\n",
       "     SentimentCategory SentimentBucket  \n",
       "0       mixed negative    -0.49 to 0.0  \n",
       "1             positive     0.0 to 0.49  \n",
       "2             positive     0.0 to 0.49  \n",
       "3        mixed positve      0.5 to 1.0  \n",
       "4       mixed negative    -0.49 to 0.0  \n",
       "...                ...             ...  \n",
       "1358    mixed negative    -0.49 to 0.0  \n",
       "1359          negative    -0.49 to 0.0  \n",
       "1360          positive      0.5 to 1.0  \n",
       "1361          negative     0.0 to 0.49  \n",
       "1362          negative     0.0 to 0.49  \n",
       "\n",
       "[1363 rows x 9 columns]"
      ],
      "text/html": [
       "<div>\n",
       "<style scoped>\n",
       "    .dataframe tbody tr th:only-of-type {\n",
       "        vertical-align: middle;\n",
       "    }\n",
       "\n",
       "    .dataframe tbody tr th {\n",
       "        vertical-align: top;\n",
       "    }\n",
       "\n",
       "    .dataframe thead th {\n",
       "        text-align: right;\n",
       "    }\n",
       "</style>\n",
       "<table border=\"1\" class=\"dataframe\">\n",
       "  <thead>\n",
       "    <tr style=\"text-align: right;\">\n",
       "      <th></th>\n",
       "      <th>ReviewID</th>\n",
       "      <th>CustomerID</th>\n",
       "      <th>ProductID</th>\n",
       "      <th>ReviewDate</th>\n",
       "      <th>Rating</th>\n",
       "      <th>ReviewText</th>\n",
       "      <th>SentimentScore</th>\n",
       "      <th>SentimentCategory</th>\n",
       "      <th>SentimentBucket</th>\n",
       "    </tr>\n",
       "  </thead>\n",
       "  <tbody>\n",
       "    <tr>\n",
       "      <th>0</th>\n",
       "      <td>1</td>\n",
       "      <td>77</td>\n",
       "      <td>18</td>\n",
       "      <td>2023-12-23</td>\n",
       "      <td>3</td>\n",
       "      <td>Average  experience,  nothing  special.</td>\n",
       "      <td>-0.3089</td>\n",
       "      <td>mixed negative</td>\n",
       "      <td>-0.49 to 0.0</td>\n",
       "    </tr>\n",
       "    <tr>\n",
       "      <th>1</th>\n",
       "      <td>2</td>\n",
       "      <td>80</td>\n",
       "      <td>19</td>\n",
       "      <td>2024-12-25</td>\n",
       "      <td>5</td>\n",
       "      <td>The  quality  is    top-notch.</td>\n",
       "      <td>0.0000</td>\n",
       "      <td>positive</td>\n",
       "      <td>0.0 to 0.49</td>\n",
       "    </tr>\n",
       "    <tr>\n",
       "      <th>2</th>\n",
       "      <td>3</td>\n",
       "      <td>50</td>\n",
       "      <td>13</td>\n",
       "      <td>2025-01-26</td>\n",
       "      <td>4</td>\n",
       "      <td>Five  stars  for  the  quick  delivery.</td>\n",
       "      <td>0.0000</td>\n",
       "      <td>positive</td>\n",
       "      <td>0.0 to 0.49</td>\n",
       "    </tr>\n",
       "    <tr>\n",
       "      <th>3</th>\n",
       "      <td>4</td>\n",
       "      <td>78</td>\n",
       "      <td>15</td>\n",
       "      <td>2025-04-21</td>\n",
       "      <td>3</td>\n",
       "      <td>Good  quality,  but  could  be  cheaper.</td>\n",
       "      <td>0.2382</td>\n",
       "      <td>mixed positve</td>\n",
       "      <td>0.5 to 1.0</td>\n",
       "    </tr>\n",
       "    <tr>\n",
       "      <th>4</th>\n",
       "      <td>5</td>\n",
       "      <td>64</td>\n",
       "      <td>2</td>\n",
       "      <td>2023-07-16</td>\n",
       "      <td>3</td>\n",
       "      <td>Average  experience,  nothing  special.</td>\n",
       "      <td>-0.3089</td>\n",
       "      <td>mixed negative</td>\n",
       "      <td>-0.49 to 0.0</td>\n",
       "    </tr>\n",
       "    <tr>\n",
       "      <th>...</th>\n",
       "      <td>...</td>\n",
       "      <td>...</td>\n",
       "      <td>...</td>\n",
       "      <td>...</td>\n",
       "      <td>...</td>\n",
       "      <td>...</td>\n",
       "      <td>...</td>\n",
       "      <td>...</td>\n",
       "      <td>...</td>\n",
       "    </tr>\n",
       "    <tr>\n",
       "      <th>1358</th>\n",
       "      <td>1359</td>\n",
       "      <td>28</td>\n",
       "      <td>4</td>\n",
       "      <td>2023-05-25</td>\n",
       "      <td>3</td>\n",
       "      <td>Not  worth  the  money.</td>\n",
       "      <td>-0.1695</td>\n",
       "      <td>mixed negative</td>\n",
       "      <td>-0.49 to 0.0</td>\n",
       "    </tr>\n",
       "    <tr>\n",
       "      <th>1359</th>\n",
       "      <td>1360</td>\n",
       "      <td>58</td>\n",
       "      <td>12</td>\n",
       "      <td>2023-11-13</td>\n",
       "      <td>2</td>\n",
       "      <td>Average    experience,  nothing  special.</td>\n",
       "      <td>-0.3089</td>\n",
       "      <td>negative</td>\n",
       "      <td>-0.49 to 0.0</td>\n",
       "    </tr>\n",
       "    <tr>\n",
       "      <th>1360</th>\n",
       "      <td>1361</td>\n",
       "      <td>96</td>\n",
       "      <td>15</td>\n",
       "      <td>2023-03-07</td>\n",
       "      <td>5</td>\n",
       "      <td>Customer  support  was  very  helpful.</td>\n",
       "      <td>0.6997</td>\n",
       "      <td>positive</td>\n",
       "      <td>0.5 to 1.0</td>\n",
       "    </tr>\n",
       "    <tr>\n",
       "      <th>1361</th>\n",
       "      <td>1362</td>\n",
       "      <td>99</td>\n",
       "      <td>2</td>\n",
       "      <td>2025-12-03</td>\n",
       "      <td>1</td>\n",
       "      <td>Product  did  not  meet  my  expectations.</td>\n",
       "      <td>0.0000</td>\n",
       "      <td>negative</td>\n",
       "      <td>0.0 to 0.49</td>\n",
       "    </tr>\n",
       "    <tr>\n",
       "      <th>1362</th>\n",
       "      <td>1363</td>\n",
       "      <td>16</td>\n",
       "      <td>4</td>\n",
       "      <td>2024-07-16</td>\n",
       "      <td>2</td>\n",
       "      <td>The  product  arrived  late.</td>\n",
       "      <td>0.0000</td>\n",
       "      <td>negative</td>\n",
       "      <td>0.0 to 0.49</td>\n",
       "    </tr>\n",
       "  </tbody>\n",
       "</table>\n",
       "<p>1363 rows × 9 columns</p>\n",
       "</div>"
      ]
     },
     "execution_count": 56,
     "metadata": {},
     "output_type": "execute_result"
    }
   ],
   "execution_count": 56
  },
  {
   "metadata": {
    "ExecuteTime": {
     "end_time": "2025-01-29T13:54:36.393988Z",
     "start_time": "2025-01-29T13:54:36.285800Z"
    }
   },
   "cell_type": "code",
   "source": "reviews_df.to_csv('fact_customers_reviews_with_sentiments.csv', index=False)",
   "id": "d7d17d2b0dbcc521",
   "outputs": [],
   "execution_count": 58
  }
 ],
 "metadata": {
  "kernelspec": {
   "display_name": "Python 3",
   "language": "python",
   "name": "python3"
  },
  "language_info": {
   "codemirror_mode": {
    "name": "ipython",
    "version": 2
   },
   "file_extension": ".py",
   "mimetype": "text/x-python",
   "name": "python",
   "nbconvert_exporter": "python",
   "pygments_lexer": "ipython2",
   "version": "2.7.6"
  }
 },
 "nbformat": 4,
 "nbformat_minor": 5
}
